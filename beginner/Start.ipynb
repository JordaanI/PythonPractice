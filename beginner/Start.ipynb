{
 "cells": [
  {
   "cell_type": "code",
   "execution_count": 3,
   "metadata": {},
   "outputs": [
    {
     "name": "stdout",
     "output_type": "stream",
     "text": [
      "You will turn 100 years old in the year 2094\n"
     ]
    }
   ],
   "source": [
    "### When do you turn 100\n",
    "\n",
    "import datetime as dt\n",
    "\n",
    "\n",
    "def whenone(age):\n",
    "    count = 0\n",
    "    year = dt.date.today().year\n",
    "    while age < 100:\n",
    "        age += 1\n",
    "        count += 1\n",
    "    year += count\n",
    "    print(f'You will turn {age} years old in the year {year}')\n",
    "\n",
    "whenone(27)"
   ]
  },
  {
   "cell_type": "code",
   "execution_count": 12,
   "metadata": {},
   "outputs": [
    {
     "name": "stdout",
     "output_type": "stream",
     "text": [
      "The number is even\n",
      "The number is odd\n",
      "The number is even\n",
      "The number is odd\n",
      "The number is even\n",
      "The number is odd\n"
     ]
    }
   ],
   "source": [
    "## Odd or even\n",
    "\n",
    "def oddchecker(num):\n",
    "    if num % 2 != 0:\n",
    "        print('The number is odd')\n",
    "    else:\n",
    "        print('The number is even')\n",
    "\n",
    "for num in range(6,12):\n",
    "    oddchecker(num)"
   ]
  },
  {
   "cell_type": "code",
   "execution_count": 13,
   "metadata": {},
   "outputs": [
    {
     "data": {
      "text/plain": [
       "[3, 4, 9, 7, 8]"
      ]
     },
     "execution_count": 13,
     "metadata": {},
     "output_type": "execute_result"
    }
   ],
   "source": [
    "### Lessthanten\n",
    "\n",
    "def lessthan10(arr):\n",
    "    temp = []\n",
    "    for num in arr:\n",
    "        if num < 10:\n",
    "            temp.append(num)\n",
    "    return temp\n",
    "\n",
    "arr = [12,3,23,4,9,10,7,8,14,11,12,67]\n",
    "lessthan10(arr)"
   ]
  },
  {
   "cell_type": "code",
   "execution_count": 15,
   "metadata": {},
   "outputs": [
    {
     "name": "stdout",
     "output_type": "stream",
     "text": [
      "Player 1 has won with Scissors\n"
     ]
    }
   ],
   "source": [
    "### Rock paper scissors\n",
    "\n",
    "def rps(one,two):\n",
    "    result = None\n",
    "    sign = None\n",
    "\n",
    "    case_one = ['Rock','Paper']\n",
    "    case_two = ['Rock','Scissors']\n",
    "    arr = [one, two]\n",
    "    if one in case_one and two in case_one:\n",
    "        result = arr.index('Paper')+1\n",
    "        sign = 'Paper'\n",
    "    elif one in case_two and two in case_two:\n",
    "        result = arr.index('Rock')+1\n",
    "        sign = 'Rock'\n",
    "    else:\n",
    "        result = arr.index('Scissors')+1\n",
    "        sign = 'Scissors'\n",
    "    print(f'Player {result} has won with {sign}')\n",
    "\n",
    "rps('Scissors','Paper')\n"
   ]
  },
  {
   "cell_type": "code",
   "execution_count": 1,
   "metadata": {},
   "outputs": [
    {
     "data": {
      "text/plain": [
       "'TghZrr9YU[r1B8dR#'"
      ]
     },
     "execution_count": 1,
     "metadata": {},
     "output_type": "execute_result"
    }
   ],
   "source": [
    "### Password generator\n",
    "\n",
    "from numpy import random as rng\n",
    "from string import ascii_letters\n",
    "numbers = ''.join([str(x) for x in range(10)])\n",
    "listdict = ascii_letters + numbers + '!@#$%^&*<>:?\"{}[]+=-_'\n",
    "lexicon = {k:v for k,v in enumerate(listdict)}\n",
    "def passwordgen(num):\n",
    "    num_password = rng.randint(0,len(lexicon),size=num)\n",
    "    password = [lexicon[x] for x in num_password]\n",
    "    return ''.join(password)\n",
    "\n",
    "passwordgen(17)"
   ]
  },
  {
   "cell_type": "code",
   "execution_count": 93,
   "metadata": {},
   "outputs": [
    {
     "data": {
      "image/png": "[encoded data removed]",
      "text/plain": [
       "<Figure size 432x288 with 1 Axes>"
      ]
     },
     "metadata": {
      "needs_background": "light"
     },
     "output_type": "display_data"
    },
    {
     "name": "stdout",
     "output_type": "stream",
     "text": [
      "Average: 33.333333333333336\n"
     ]
    }
   ],
   "source": [
    "### number guesser\n",
    "# Pick a number between 1-100 and let the computer guess the number\n",
    "\n",
    "import matplotlib.pyplot as plt\n",
    "import numpy as np\n",
    "from numpy import random as rng\n",
    "\n",
    "max_num = 10001\n",
    "averages = []\n",
    "\n",
    "for j in range(100):\n",
    "    def number_guesser(num):\n",
    "        guess= rng.randint(1,max_num)\n",
    "        valid = list(range(0,max_num))\n",
    "        guessed = []\n",
    "        count = 0\n",
    "        while guess != num:\n",
    "            guessed.append(guess)\n",
    "            count += 1\n",
    "            if guess < num:\n",
    "                valid = valid[valid.index(guess)+1:]\n",
    "                while guess in guessed:\n",
    "                    guess = rng.randint(valid[0],valid[-1]+1)\n",
    "                # guess = valid[len(valid)//2]\n",
    "            else:\n",
    "                valid = valid[:valid.index(guess)]\n",
    "                while guess in guessed:\n",
    "                    guess = rng.randint(valid[0],valid[-1]+1)\n",
    "                # guess = valid[len(valid)//2]\n",
    "        return guess, count\n",
    "\n",
    "    counts = {}\n",
    "    for i in range(1,max_num):\n",
    "        guess, count = number_guesser(i)\n",
    "        counts[guess] = count\n",
    "        # highest_count.append(max(counts.values()))\n",
    "    averages.append(round(np.mean(list(counts.values())),1))\n",
    "\n",
    "cc = [averages.count(x) for x  in set(averages)]\n",
    "\n",
    "fig, ax = plt.subplots()\n",
    "ax.plot(cc)\n",
    "plt.show()\n",
    "print(f'Average: {np.mean(cc)}')"
   ]
  },
  {
   "cell_type": "code",
   "execution_count": 88,
   "metadata": {},
   "outputs": [
    {
     "data": {
      "text/plain": [
       "90"
      ]
     },
     "execution_count": 88,
     "metadata": {},
     "output_type": "execute_result"
    }
   ],
   "source": [
    "len(set(averages))"
   ]
  },
  {
   "cell_type": "code",
   "execution_count": 87,
   "metadata": {},
   "outputs": [
    {
     "data": {
      "image/png": "[encoded data removed]",
      "text/plain": [
       "<Figure size 432x288 with 1 Axes>"
      ]
     },
     "metadata": {
      "needs_background": "light"
     },
     "output_type": "display_data"
    },
    {
     "name": "stdout",
     "output_type": "stream",
     "text": [
      "Average: 7.987\n"
     ]
    }
   ],
   "source": [
    "import matplotlib.pyplot as plt\n",
    "import numpy as np\n",
    "from numpy import random as rng\n",
    "\n",
    "highest_count = []\n",
    "max_num = 1001\n",
    "\n",
    "def number_guesser(num):\n",
    "    guess= max_num//2\n",
    "    valid = list(range(0,max_num))\n",
    "    count = 0\n",
    "    while guess != num:\n",
    "        count += 1\n",
    "        if guess < num:\n",
    "            valid = valid[valid.index(guess)+1:]\n",
    "            guess = valid[len(valid)//2]\n",
    "        else:\n",
    "            valid = valid[:valid.index(guess)]\n",
    "            guess = valid[len(valid)//2]\n",
    "    return guess, count\n",
    "\n",
    "counts = {}\n",
    "for i in range(1,max_num):\n",
    "    guess, count = number_guesser(i)\n",
    "    counts[guess] = count\n",
    "    # highest_count.append(max(counts.values()))\n",
    "\n",
    "fig, ax = plt.subplots()\n",
    "ax.scatter(x=list(range(1,max_num)),y=list(counts.values()))\n",
    "plt.show()\n",
    "print(f'Average: {np.mean(list(counts.values()))}')"
   ]
  }
 ],
 "metadata": {
  "interpreter": {
   "hash": "4f83d188c93285744c9e231d0e20b204081cd39f5e44132ec4def0ee68076c04"
  },
  "kernelspec": {
   "display_name": "Python 3.9.7 64-bit",
   "language": "python",
   "name": "python3"
  },
  "language_info": {
   "codemirror_mode": {
    "name": "ipython",
    "version": 3
   },
   "file_extension": ".py",
   "mimetype": "text/x-python",
   "name": "python",
   "nbconvert_exporter": "python",
   "pygments_lexer": "ipython3",
   "version": "3.9.7"
  },
  "orig_nbformat": 4
 },
 "nbformat": 4,
 "nbformat_minor": 2
}
